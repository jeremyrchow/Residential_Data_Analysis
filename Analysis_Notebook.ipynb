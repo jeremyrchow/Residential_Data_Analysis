{
 "cells": [
  {
   "cell_type": "code",
   "execution_count": 1,
   "metadata": {},
   "outputs": [],
   "source": [
    "import pandas as pd\n",
    "import numpy as np\n",
    "import matplotlib as plt\n",
    "import seaborn as sns"
   ]
  },
  {
   "cell_type": "code",
   "execution_count": 38,
   "metadata": {},
   "outputs": [],
   "source": [
    "pd.set_option('display.width', 0)"
   ]
  },
  {
   "cell_type": "code",
   "execution_count": 17,
   "metadata": {},
   "outputs": [],
   "source": [
    "data = pd.read_csv('data/scraped_data.csv')\n",
    "# Listings has some non-utf-8 characters\n",
    "listings = pd.read_csv('data/scraped_listings.csv',encoding='ISO-8859-1')"
   ]
  },
  {
   "cell_type": "code",
   "execution_count": 20,
   "metadata": {},
   "outputs": [],
   "source": [
    "# For faster loading in future\n",
    "# data.to_pickle('data/scraped_data.pkl')\n",
    "# listings.to_pickle('data/scraped_listings.pkl')"
   ]
  },
  {
   "cell_type": "code",
   "execution_count": 21,
   "metadata": {},
   "outputs": [],
   "source": [
    "data = pd.read_pickle('data/scraped_data.pkl')\n",
    "listings = pd.read_pickle('data/scraped_listings.pkl')"
   ]
  },
  {
   "cell_type": "code",
   "execution_count": 35,
   "metadata": {},
   "outputs": [],
   "source": [
    "def describe_df(df):\n",
    "    print('Table First 5 Rows:')\n",
    "    print(df.head())\n",
    "    print('Table shape:')\n",
    "    print(df.shape)\n",
    "    print('Summary:')\n",
    "    print(df.info())\n",
    "    print('Preliminary metrics:')\n",
    "    print(df.describe())\n",
    "    print('Missing values:')\n",
    "    print(df.isnull().sum())"
   ]
  },
  {
   "cell_type": "code",
   "execution_count": 36,
   "metadata": {},
   "outputs": [
    {
     "name": "stdout",
     "output_type": "stream",
     "text": [
      "Table First 5 Rows:\n",
      "   scraping_id scraped_date        date  price  available\n",
      "0            2   2018-03-15  2018-04-01    250          1\n",
      "1            2   2018-03-15  2018-04-02    115          1\n",
      "2            2   2018-03-15  2018-04-03    115          1\n",
      "3            2   2018-03-15  2018-04-04    115          1\n",
      "4            2   2018-03-15  2018-04-05    150          0\n",
      "Table shape:\n",
      "(16300175, 5)\n",
      "Summary:\n",
      "<class 'pandas.core.frame.DataFrame'>\n",
      "RangeIndex: 16300175 entries, 0 to 16300174\n",
      "Data columns (total 5 columns):\n",
      "scraping_id     int64\n",
      "scraped_date    object\n",
      "date            object\n",
      "price           int64\n",
      "available       int64\n",
      "dtypes: int64(3), object(2)\n",
      "memory usage: 621.8+ MB\n",
      "None\n",
      "Preliminary metrics:\n",
      "        scraping_id         price     available\n",
      "count  1.630018e+07  1.630018e+07  1.630018e+07\n",
      "mean   8.859516e+06  3.068724e+02  4.880770e-01\n",
      "std    1.058208e+07  8.637483e+02  4.998578e-01\n",
      "min    2.000000e+00  1.000000e+01  0.000000e+00\n",
      "25%    3.835000e+03  1.000000e+02  0.000000e+00\n",
      "50%    1.293900e+04  1.590000e+02  0.000000e+00\n",
      "75%    2.147308e+07  3.000000e+02  1.000000e+00\n",
      "max    2.470754e+07  2.500000e+04  1.000000e+00\n",
      "Missing values:\n",
      "scraping_id     0\n",
      "scraped_date    0\n",
      "date            0\n",
      "price           0\n",
      "available       0\n",
      "dtype: int64\n"
     ]
    }
   ],
   "source": [
    "describe_df(data)"
   ]
  },
  {
   "cell_type": "code",
   "execution_count": 39,
   "metadata": {},
   "outputs": [
    {
     "name": "stdout",
     "output_type": "stream",
     "text": [
      "Table First 5 Rows:\n",
      "   scraping_id                                listing        city         lon  \\\n",
      "0            2  https://www.airbnb.com/rooms/17720788  Scottsdale -111.916935   \n",
      "1            3   https://www.airbnb.com/rooms/4400911  Scottsdale -111.898977   \n",
      "2            4  https://www.airbnb.com/rooms/19748678  Scottsdale -111.957684   \n",
      "3            5  https://www.airbnb.com/rooms/18900365  Scottsdale -111.915536   \n",
      "4            6  https://www.airbnb.com/rooms/15808110  Scottsdale -111.910657   \n",
      "\n",
      "         lat                                    mapped_location  \\\n",
      "0  33.496566  https://maps.google.com/maps?q=33.496565678911...   \n",
      "1  33.463182  https://maps.google.com/maps?q=33.463182488027...   \n",
      "2  33.607810  https://maps.google.com/maps?q=33.607809726520...   \n",
      "3  33.499397  https://maps.google.com/maps?q=33.499396773678...   \n",
      "4  33.490571  https://maps.google.com/maps?q=33.490570685645...   \n",
      "\n",
      "                                                name  capacity bathrooms  \\\n",
      "0  Old Town Scottsdale Vacation Home & GIANTS Rental         7       2.5   \n",
      "1                 Upscale Townhouse South Scottsdale         4       1.5   \n",
      "2    North Scottsdale/ PV Private Guest House w/pool         4         1   \n",
      "3         Mountain View Paradise*Heated Pool*Spa*Gym         4         1   \n",
      "4                    Modern Luxury Scottsdale Condo!         5         1   \n",
      "\n",
      "  bedrooms  has_pool cleaning_fee  is_superhost       host_name  \n",
      "0        2         1          150             1              Mj  \n",
      "1        2         1           85             1           Jamil  \n",
      "2        0         1           75             1  Julie And Bill  \n",
      "3        1         1          100             1         Vanessa  \n",
      "4        2         1          150             1            Sara  \n",
      "Table shape:\n",
      "(8445, 14)\n",
      "Summary:\n",
      "<class 'pandas.core.frame.DataFrame'>\n",
      "RangeIndex: 8445 entries, 0 to 8444\n",
      "Data columns (total 14 columns):\n",
      "scraping_id        8445 non-null int64\n",
      "listing            8445 non-null object\n",
      "city               8445 non-null object\n",
      "lon                8445 non-null float64\n",
      "lat                8445 non-null float64\n",
      "mapped_location    8445 non-null object\n",
      "name               8445 non-null object\n",
      "capacity           8445 non-null int64\n",
      "bathrooms          8445 non-null object\n",
      "bedrooms           8445 non-null object\n",
      "has_pool           8445 non-null int64\n",
      "cleaning_fee       8445 non-null object\n",
      "is_superhost       8445 non-null int64\n",
      "host_name          8445 non-null object\n",
      "dtypes: float64(2), int64(4), object(8)\n",
      "memory usage: 923.8+ KB\n",
      "None\n",
      "Preliminary metrics:\n",
      "        scraping_id          lon          lat     capacity     has_pool  \\\n",
      "count  8.445000e+03  8445.000000  8445.000000  8445.000000  8445.000000   \n",
      "mean   1.022693e+07  -111.967109    33.510719     6.053641     0.730847   \n",
      "std    1.086948e+07     0.167902     0.133915     3.282324     0.443546   \n",
      "min    2.000000e+00  -112.712487    32.840029     1.000000     0.000000   \n",
      "25%    5.753000e+03  -112.052714    33.450837     4.000000     0.000000   \n",
      "50%    1.487100e+04  -111.935227    33.501307     6.000000     1.000000   \n",
      "75%    2.188136e+07  -111.897167    33.601196     8.000000     1.000000   \n",
      "max    2.470754e+07  -111.367664    34.076572    26.000000     1.000000   \n",
      "\n",
      "       is_superhost  \n",
      "count   8445.000000  \n",
      "mean       0.241445  \n",
      "std        0.427985  \n",
      "min        0.000000  \n",
      "25%        0.000000  \n",
      "50%        0.000000  \n",
      "75%        0.000000  \n",
      "max        1.000000  \n",
      "Missing values:\n",
      "scraping_id        0\n",
      "listing            0\n",
      "city               0\n",
      "lon                0\n",
      "lat                0\n",
      "mapped_location    0\n",
      "name               0\n",
      "capacity           0\n",
      "bathrooms          0\n",
      "bedrooms           0\n",
      "has_pool           0\n",
      "cleaning_fee       0\n",
      "is_superhost       0\n",
      "host_name          0\n",
      "dtype: int64\n"
     ]
    }
   ],
   "source": [
    "describe_df(listings)"
   ]
  },
  {
   "cell_type": "code",
   "execution_count": null,
   "metadata": {},
   "outputs": [],
   "source": []
  }
 ],
 "metadata": {
  "kernelspec": {
   "display_name": "Python 3",
   "language": "python",
   "name": "python3"
  },
  "language_info": {
   "codemirror_mode": {
    "name": "ipython",
    "version": 3
   },
   "file_extension": ".py",
   "mimetype": "text/x-python",
   "name": "python",
   "nbconvert_exporter": "python",
   "pygments_lexer": "ipython3",
   "version": "3.7.3"
  }
 },
 "nbformat": 4,
 "nbformat_minor": 2
}
