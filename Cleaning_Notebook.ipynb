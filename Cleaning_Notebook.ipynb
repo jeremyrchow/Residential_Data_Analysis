{
 "cells": [
  {
   "cell_type": "markdown",
   "metadata": {},
   "source": [
    "# Data Cleaning Notebook"
   ]
  },
  {
   "cell_type": "code",
   "execution_count": 1,
   "metadata": {},
   "outputs": [],
   "source": [
    "import pandas as pd\n",
    "import numpy as np\n",
    "import matplotlib as plt\n",
    "import seaborn as sns"
   ]
  },
  {
   "cell_type": "markdown",
   "metadata": {},
   "source": [
    "\n",
    "**Questions to answer**\n",
    "- What data would you exclude from analysis for being unreliable or potentially a block instead of an actual booking?\n",
    "- What is a good approach to estimate occupancy and revenue per unit?\n",
    "- Which month appears to be more profitable? April or May?\n",
    "- How much more revenue do places with 3 bedrooms make vs. places with 2 bedrooms?\n",
    "- What are any other interesting insights you may have found?"
   ]
  },
  {
   "cell_type": "code",
   "execution_count": 17,
   "metadata": {},
   "outputs": [],
   "source": [
    "# data = pd.read_csv('data/scraped_data.csv')\n",
    "# Listings has some non-utf-8 characters\n",
    "# listings = pd.read_csv('data/scraped_listings.csv',encoding='ISO-8859-1')"
   ]
  },
  {
   "cell_type": "code",
   "execution_count": 20,
   "metadata": {},
   "outputs": [],
   "source": [
    "# For faster loading in future\n",
    "# data.to_pickle('data/scraped_data.pkl')\n",
    "# listings.to_pickle('data/scraped_listings.pkl')"
   ]
  },
  {
   "cell_type": "code",
   "execution_count": 161,
   "metadata": {},
   "outputs": [],
   "source": [
    "data = pd.read_pickle('data/scraped_data.pkl')\n",
    "listings = pd.read_pickle('data/scraped_listings.pkl')"
   ]
  },
  {
   "cell_type": "code",
   "execution_count": 35,
   "metadata": {},
   "outputs": [],
   "source": [
    "def describe_df(df):\n",
    "    print('Table First 5 Rows:')\n",
    "    print(df.head())\n",
    "    print('Table shape:')\n",
    "    print(df.shape)\n",
    "    print('Summary:')\n",
    "    print(df.info())\n",
    "    print('Preliminary metrics:')\n",
    "    print(df.describe())\n",
    "    print('Missing values:')\n",
    "    print(df.isnull().sum())"
   ]
  },
  {
   "cell_type": "markdown",
   "metadata": {},
   "source": [
    "In listing dataframe, **Nulls are recorded as '[Null]'**"
   ]
  },
  {
   "cell_type": "code",
   "execution_count": 168,
   "metadata": {},
   "outputs": [
    {
     "data": {
      "text/plain": [
       "Index(['scraping_id', 'listing', 'city', 'lon', 'lat', 'mapped_location',\n",
       "       'name', 'capacity', 'bathrooms', 'bedrooms', 'has_pool', 'cleaning_fee',\n",
       "       'is_superhost', 'host_name'],\n",
       "      dtype='object')"
      ]
     },
     "execution_count": 168,
     "metadata": {},
     "output_type": "execute_result"
    }
   ],
   "source": [
    "listings.columns"
   ]
  },
  {
   "cell_type": "code",
   "execution_count": 169,
   "metadata": {},
   "outputs": [
    {
     "data": {
      "text/plain": [
       "scraping_id          int64\n",
       "listing             object\n",
       "city                object\n",
       "lon                float64\n",
       "lat                float64\n",
       "mapped_location     object\n",
       "name                object\n",
       "capacity             int64\n",
       "bathrooms           object\n",
       "bedrooms            object\n",
       "has_pool              bool\n",
       "cleaning_fee        object\n",
       "is_superhost          bool\n",
       "host_name           object\n",
       "dtype: object"
      ]
     },
     "execution_count": 169,
     "metadata": {},
     "output_type": "execute_result"
    }
   ],
   "source": [
    "listings.dtypes"
   ]
  },
  {
   "cell_type": "code",
   "execution_count": 170,
   "metadata": {},
   "outputs": [
    {
     "data": {
      "text/plain": [
       "1181"
      ]
     },
     "execution_count": 170,
     "metadata": {},
     "output_type": "execute_result"
    }
   ],
   "source": [
    "listings.loc[listings.cleaning_fee == '(NULL)'].cleaning_fee.count()"
   ]
  },
  {
   "cell_type": "code",
   "execution_count": 171,
   "metadata": {},
   "outputs": [],
   "source": [
    "listings.replace('(NULL)',np.NaN,inplace = True)"
   ]
  },
  {
   "cell_type": "code",
   "execution_count": 172,
   "metadata": {},
   "outputs": [
    {
     "data": {
      "text/plain": [
       "scraping_id           0\n",
       "listing               0\n",
       "city                  0\n",
       "lon                   0\n",
       "lat                   0\n",
       "mapped_location       0\n",
       "name                  0\n",
       "capacity              0\n",
       "bathrooms             1\n",
       "bedrooms              2\n",
       "has_pool              0\n",
       "cleaning_fee       1181\n",
       "is_superhost          0\n",
       "host_name            12\n",
       "dtype: int64"
      ]
     },
     "execution_count": 172,
     "metadata": {},
     "output_type": "execute_result"
    }
   ],
   "source": [
    "listings.isnull().sum()"
   ]
  },
  {
   "cell_type": "code",
   "execution_count": 180,
   "metadata": {},
   "outputs": [],
   "source": [
    "listings['has_pool'] = listings.has_pool.astype(bool)\n",
    "listings['is_superhost'] = listings.is_superhost.astype(bool)\n",
    "listings['cleaning_fee'] = listings.cleaning_fee.astype(np.float64)"
   ]
  },
  {
   "cell_type": "code",
   "execution_count": 253,
   "metadata": {},
   "outputs": [],
   "source": [
    "listings['cleaning_fee'] = listings['cleaning_fee'].apply(lambda cell: np.int64(cell) if not np.isnan(cell) else cell)"
   ]
  },
  {
   "cell_type": "code",
   "execution_count": 254,
   "metadata": {},
   "outputs": [],
   "source": [
    "listings.to_pickle('data/scraped_listings_cleaned.pkl')"
   ]
  },
  {
   "cell_type": "markdown",
   "metadata": {},
   "source": [
    "# Cleaning the scrapings_data "
   ]
  },
  {
   "cell_type": "code",
   "execution_count": 163,
   "metadata": {},
   "outputs": [
    {
     "data": {
      "text/plain": [
       "scraping_id      int64\n",
       "scraped_date    object\n",
       "date            object\n",
       "price            int64\n",
       "available        int64\n",
       "dtype: object"
      ]
     },
     "execution_count": 163,
     "metadata": {},
     "output_type": "execute_result"
    }
   ],
   "source": [
    "data.dtypes"
   ]
  },
  {
   "cell_type": "code",
   "execution_count": 164,
   "metadata": {},
   "outputs": [
    {
     "data": {
      "text/plain": [
       "0"
      ]
     },
     "execution_count": 164,
     "metadata": {},
     "output_type": "execute_result"
    }
   ],
   "source": [
    "# Verify no nulls by regex checking dates\n",
    "(~(data.date.str.contains('^\\d{4}-\\d{2}-\\d{2}'))).sum()"
   ]
  },
  {
   "cell_type": "code",
   "execution_count": 165,
   "metadata": {},
   "outputs": [],
   "source": [
    "data['scraped_date'] = pd.to_datetime(data.scraped_date)\n",
    "data['date'] = pd.to_datetime(data.date)\n",
    "data['available'] = data.available.astype(bool)"
   ]
  },
  {
   "cell_type": "code",
   "execution_count": 166,
   "metadata": {},
   "outputs": [
    {
     "name": "stdout",
     "output_type": "stream",
     "text": [
      "<class 'pandas.core.frame.DataFrame'>\n",
      "RangeIndex: 16300175 entries, 0 to 16300174\n",
      "Data columns (total 5 columns):\n",
      "scraping_id     int64\n",
      "scraped_date    datetime64[ns]\n",
      "date            datetime64[ns]\n",
      "price           int64\n",
      "available       bool\n",
      "dtypes: bool(1), datetime64[ns](2), int64(2)\n",
      "memory usage: 513.0 MB\n"
     ]
    }
   ],
   "source": [
    "data.info()"
   ]
  },
  {
   "cell_type": "code",
   "execution_count": 167,
   "metadata": {},
   "outputs": [],
   "source": [
    "data.to_pickle('data/scraped_data_cleaned.pkl')"
   ]
  },
  {
   "cell_type": "code",
   "execution_count": null,
   "metadata": {},
   "outputs": [],
   "source": []
  }
 ],
 "metadata": {
  "kernelspec": {
   "display_name": "Python 3",
   "language": "python",
   "name": "python3"
  },
  "language_info": {
   "codemirror_mode": {
    "name": "ipython",
    "version": 3
   },
   "file_extension": ".py",
   "mimetype": "text/x-python",
   "name": "python",
   "nbconvert_exporter": "python",
   "pygments_lexer": "ipython3",
   "version": "3.7.3"
  }
 },
 "nbformat": 4,
 "nbformat_minor": 2
}
